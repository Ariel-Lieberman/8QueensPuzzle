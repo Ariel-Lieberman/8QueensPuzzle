{
  "nbformat": 4,
  "nbformat_minor": 0,
  "metadata": {
    "colab": {
      "provenance": [],
      "authorship_tag": "ABX9TyMq7zhR2e5zPd4RHuVLbnde",
      "include_colab_link": true
    },
    "kernelspec": {
      "name": "python3",
      "display_name": "Python 3"
    }
  },
  "cells": [
    {
      "cell_type": "markdown",
      "metadata": {
        "id": "view-in-github",
        "colab_type": "text"
      },
      "source": [
        "<a href=\"https://colab.research.google.com/github/Ariel-Lieberman/8QueensPuzzle/blob/main/outer_inner.ipynb\" target=\"_parent\"><img src=\"https://colab.research.google.com/assets/colab-badge.svg\" alt=\"Open In Colab\"/></a>"
      ]
    },
    {
      "cell_type": "code",
      "metadata": {
        "id": "ik9U9GAIW9Dx"
      },
      "source": [
        "def inner():\n",
        "  print(\"We're inside\")\n",
        "  value = yield 2\n",
        "  print(\"Received\", value)\n",
        "  return 4\n",
        "\n",
        "def outer():\n",
        "  yield 1\n",
        "  retval = yield from inner()\n",
        "  print(\"Returned\", retval)\n",
        "  yield 5"
      ],
      "execution_count": 6,
      "outputs": []
    },
    {
      "cell_type": "code",
      "source": [
        "g = outer()\n",
        "next(g)"
      ],
      "metadata": {
        "id": "F6w-ZMGFwfWP"
      },
      "execution_count": null,
      "outputs": []
    },
    {
      "cell_type": "code",
      "source": [
        "next(g)"
      ],
      "metadata": {
        "id": "SqvLnKcIwm43"
      },
      "execution_count": null,
      "outputs": []
    },
    {
      "cell_type": "code",
      "source": [
        "g.send(3)"
      ],
      "metadata": {
        "id": "_c0JiAoWwrpg"
      },
      "execution_count": null,
      "outputs": []
    }
  ]
}