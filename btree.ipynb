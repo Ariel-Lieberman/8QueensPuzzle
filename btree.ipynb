{
  "nbformat": 4,
  "nbformat_minor": 0,
  "metadata": {
    "colab": {
      "provenance": [],
      "authorship_tag": "ABX9TyNSXEKfZTEXNz9Sqt7BSfoz",
      "include_colab_link": true
    },
    "kernelspec": {
      "name": "python3",
      "display_name": "Python 3"
    }
  },
  "cells": [
    {
      "cell_type": "markdown",
      "metadata": {
        "id": "view-in-github",
        "colab_type": "text"
      },
      "source": [
        "<a href=\"https://colab.research.google.com/github/Ariel-Lieberman/8QueensPuzzle/blob/main/btree.ipynb\" target=\"_parent\"><img src=\"https://colab.research.google.com/assets/colab-badge.svg\" alt=\"Open In Colab\"/></a>"
      ]
    },
    {
      "cell_type": "code",
      "metadata": {
        "id": "ik9U9GAIW9Dx"
      },
      "source": [
        "import random\n",
        "import sys\n",
        "from time import time\n",
        "from typing import Optional"
      ],
      "execution_count": null,
      "outputs": []
    },
    {
      "cell_type": "code",
      "source": [
        "class Node:\n",
        "    def __init__(self, data, left=None, right=None):\n",
        "        self.data = data\n",
        "        self.left = left\n",
        "        self.right = right"
      ],
      "metadata": {
        "id": "GszfVEUbFr9C"
      },
      "execution_count": null,
      "outputs": []
    },
    {
      "cell_type": "code",
      "source": [
        "def insert(root: Node, data):\n",
        "    if root is None:\n",
        "        return Node(data)\n",
        "    else:\n",
        "        if root.data == data:\n",
        "            return root\n",
        "        elif root.data < data:\n",
        "            root.right = insert(root.right, data)\n",
        "        else:\n",
        "            root.left = insert(root.left, data)\n",
        "    return root"
      ],
      "metadata": {
        "id": "A5dJtx0MFvqF"
      },
      "execution_count": null,
      "outputs": []
    },
    {
      "cell_type": "code",
      "source": [
        "def random_bt(start: int, end: int, count: int = 1):\n",
        "    bt: Optional[Node] = None\n",
        "    for _ in range(count):\n",
        "        ret_val = random.randint(start, end)\n",
        "        bt = insert(bt, ret_val)\n",
        "    return bt"
      ],
      "metadata": {
        "id": "3UWDmXjZGCvo"
      },
      "execution_count": null,
      "outputs": []
    },
    {
      "cell_type": "code",
      "source": [
        "tree = random_bt(1, 100000, 1000)"
      ],
      "metadata": {
        "id": "_BIKwpSMGQ4b"
      },
      "execution_count": null,
      "outputs": []
    },
    {
      "cell_type": "code",
      "source": [
        "def recursive_dfs(tree):\n",
        "  ..."
      ],
      "metadata": {
        "id": "XYJQgaCnF19f"
      },
      "execution_count": null,
      "outputs": []
    },
    {
      "cell_type": "code",
      "source": [
        "print(recursive_dfs(tree))"
      ],
      "metadata": {
        "id": "N53ldaZcGLk8"
      },
      "execution_count": null,
      "outputs": []
    },
    {
      "cell_type": "code",
      "source": [
        "def basic_dfs(tree):\n",
        "  ..."
      ],
      "metadata": {
        "id": "wvkH4X70F5y4"
      },
      "execution_count": null,
      "outputs": []
    },
    {
      "cell_type": "code",
      "source": [
        "print(list(basic_dfs(tree)))"
      ],
      "metadata": {
        "id": "QNKIYaV4GoTy"
      },
      "execution_count": null,
      "outputs": []
    },
    {
      "cell_type": "code",
      "source": [
        "%timeit recursive_dfs(tree)[0]"
      ],
      "metadata": {
        "id": "Ea0mL-CPGvHE"
      },
      "execution_count": null,
      "outputs": []
    },
    {
      "cell_type": "code",
      "source": [
        "%timeit next(basic_dfs(tree))"
      ],
      "metadata": {
        "id": "SeCa-AnAG5Lf"
      },
      "execution_count": null,
      "outputs": []
    }
  ]
}